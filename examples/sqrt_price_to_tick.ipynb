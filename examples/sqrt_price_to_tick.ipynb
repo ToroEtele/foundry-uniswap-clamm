{
 "cells": [
  {
   "cell_type": "code",
   "execution_count": null,
   "metadata": {},
   "outputs": [],
   "source": [
    "import math\n",
    "\n",
    "sqrtPriceX96 = 3443439269043970780644209\n",
    "q = 2 ** 96\n",
    "tick = -200921\n",
    "\n",
    "tick = 2 * math.log(sqrtPriceX96 / q) / math.log(1.0001)\n",
    "tick"
   ]
  }
 ],
 "metadata": {
  "language_info": {
   "name": "python"
  },
  "orig_nbformat": 4
 },
 "nbformat": 4,
 "nbformat_minor": 2
}
