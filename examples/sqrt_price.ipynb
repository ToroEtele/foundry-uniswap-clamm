{
 "cells": [
  {
   "cell_type": "code",
   "execution_count": null,
   "metadata": {},
   "outputs": [],
   "source": [
    "sqrtPriceX96 = 3443439269043970780644209\n",
    "q = 2 ** 96\n",
    "p = (sqrtPriceX96 / q) ** 2\n",
    "\n",
    "# token 0 ETH\n",
    "decimals_0 = 1e18\n",
    "# token 1 USDC\n",
    "deacimals_1 = 1e6\n",
    "\n",
    "p * decimals_0 / deacimals_1"
   ]
  }
 ],
 "metadata": {
  "language_info": {
   "name": "python"
  },
  "orig_nbformat": 4
 },
 "nbformat": 4,
 "nbformat_minor": 2
}
